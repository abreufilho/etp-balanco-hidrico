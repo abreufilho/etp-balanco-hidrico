{
  "cells": [
    {
      "cell_type": "markdown",
      "metadata": {
        "id": "ut_EcJYGGvzG"
      },
      "source": [
        "# SICAR - Colab"
      ]
    },
    {
      "cell_type": "markdown",
      "metadata": {
        "id": "f4q5YavVG26M"
      },
      "source": [
        "Connect your Google Drive account to save files permanently to your drive"
      ]
    },
    {
      "cell_type": "code",
      "execution_count": null,
      "metadata": {
        "colab": {
          "base_uri": "https://localhost:8080/"
        },
        "id": "SewHp3K6wrri",
        "outputId": "607cd332-d46d-4a38-855b-43f03e132b96"
      },
      "outputs": [
        {
          "name": "stdout",
          "output_type": "stream",
          "text": [
            "Drive already mounted at /content/drive; to attempt to forcibly remount, call drive.mount(\"/content/drive\", force_remount=True).\n"
          ]
        }
      ],
      "source": [
        "from google.colab import drive\n",
        "drive.mount('/content/drive')"
      ]
    },
    {
      "cell_type": "markdown",
      "metadata": {
        "id": "7hGN3FJHzWEr"
      },
      "source": [
        "Install SICAR package"
      ]
    },
    {
      "cell_type": "code",
      "execution_count": null,
      "metadata": {
        "colab": {
          "base_uri": "https://localhost:8080/"
        },
        "id": "pUUHpgV3pIsz",
        "outputId": "ff37c26d-4503-4759-fa2c-03b7869ca83d"
      },
      "outputs": [
        {
          "name": "stdout",
          "output_type": "stream",
          "text": [
            "Collecting git+https://github.com/urbanogilson/SICAR@v0.2\n",
            "  Cloning https://github.com/urbanogilson/SICAR (to revision v0.2) to /tmp/pip-req-build-q2rrxwmv\n",
            "  Running command git clone -q https://github.com/urbanogilson/SICAR /tmp/pip-req-build-q2rrxwmv\n",
            "  Running command git checkout -b v0.2 --track origin/v0.2\n",
            "  Switched to a new branch 'v0.2'\n",
            "  Branch 'v0.2' set up to track remote branch 'v0.2' from 'origin'.\n",
            "Requirement already satisfied: requests>=2.22.0 in /usr/local/lib/python3.7/dist-packages (from SICAR==0.2.0) (2.23.0)\n",
            "Requirement already satisfied: urllib3>=1.25.8 in /usr/local/lib/python3.7/dist-packages (from SICAR==0.2.0) (1.25.11)\n",
            "Requirement already satisfied: pytesseract>=0.3.7 in /usr/local/lib/python3.7/dist-packages (from SICAR==0.2.0) (0.3.8)\n",
            "Requirement already satisfied: opencv-python>=4.5.1.48 in /usr/local/lib/python3.7/dist-packages (from SICAR==0.2.0) (4.5.3.56)\n",
            "Requirement already satisfied: numpy>=1.19.5 in /usr/local/lib/python3.7/dist-packages (from SICAR==0.2.0) (1.19.5)\n",
            "Requirement already satisfied: tqdm>=4.56.2 in /usr/local/lib/python3.7/dist-packages (from SICAR==0.2.0) (4.62.0)\n",
            "Requirement already satisfied: matplotlib>=3.3.3 in /usr/local/lib/python3.7/dist-packages (from SICAR==0.2.0) (3.4.3)\n",
            "Requirement already satisfied: pillow>=6.2.0 in /usr/local/lib/python3.7/dist-packages (from matplotlib>=3.3.3->SICAR==0.2.0) (7.1.2)\n",
            "Requirement already satisfied: pyparsing>=2.2.1 in /usr/local/lib/python3.7/dist-packages (from matplotlib>=3.3.3->SICAR==0.2.0) (2.4.7)\n",
            "Requirement already satisfied: kiwisolver>=1.0.1 in /usr/local/lib/python3.7/dist-packages (from matplotlib>=3.3.3->SICAR==0.2.0) (1.3.1)\n",
            "Requirement already satisfied: cycler>=0.10 in /usr/local/lib/python3.7/dist-packages (from matplotlib>=3.3.3->SICAR==0.2.0) (0.10.0)\n",
            "Requirement already satisfied: python-dateutil>=2.7 in /usr/local/lib/python3.7/dist-packages (from matplotlib>=3.3.3->SICAR==0.2.0) (2.8.2)\n",
            "Requirement already satisfied: six in /usr/local/lib/python3.7/dist-packages (from cycler>=0.10->matplotlib>=3.3.3->SICAR==0.2.0) (1.15.0)\n",
            "Requirement already satisfied: idna<3,>=2.5 in /usr/local/lib/python3.7/dist-packages (from requests>=2.22.0->SICAR==0.2.0) (2.10)\n",
            "Requirement already satisfied: certifi>=2017.4.17 in /usr/local/lib/python3.7/dist-packages (from requests>=2.22.0->SICAR==0.2.0) (2021.5.30)\n",
            "Requirement already satisfied: chardet<4,>=3.0.2 in /usr/local/lib/python3.7/dist-packages (from requests>=2.22.0->SICAR==0.2.0) (3.0.4)\n",
            "Reading package lists... Done\n",
            "Building dependency tree       \n",
            "Reading state information... Done\n",
            "tesseract-ocr is already the newest version (4.00~git2288-10f4998a-2).\n",
            "The following package was automatically installed and is no longer required:\n",
            "  libnvidia-common-460\n",
            "Use 'sudo apt autoremove' to remove it.\n",
            "0 upgraded, 0 newly installed, 0 to remove and 40 not upgraded.\n"
          ]
        }
      ],
      "source": [
        "!pip install git+https://github.com/urbanogilson/SICAR\n",
        "!sudo apt install tesseract-ocr -y"
      ]
    },
    {
      "cell_type": "code",
      "execution_count": null,
      "metadata": {
        "id": "0SiOtCnby3TY"
      },
      "outputs": [],
      "source": [
        "from SICAR import Sicar\n",
        "import pprint"
      ]
    },
    {
      "cell_type": "code",
      "execution_count": null,
      "metadata": {
        "id": "mh1l468ry2pk"
      },
      "outputs": [],
      "source": [
        "car = Sicar(email = \"sicar@sicar.com\")"
      ]
    },
    {
      "cell_type": "code",
      "execution_count": null,
      "metadata": {
        "id": "OD-ZiKyYy2Zw"
      },
      "outputs": [],
      "source": [
        "# Get cities codes by state\n",
        "cities_codes = car.get_cities_codes(state='RR')"
      ]
    },
    {
      "cell_type": "code",
      "execution_count": null,
      "metadata": {
        "colab": {
          "base_uri": "https://localhost:8080/"
        },
        "id": "YQLxBxLz0RBQ",
        "outputId": "c6dd3dbe-32a8-41ba-be4a-7bf4bb0d3898"
      },
      "outputs": [
        {
          "name": "stdout",
          "output_type": "stream",
          "text": [
            "{'Alto Alegre': '1400050',\n",
            " 'Amajari': '1400027',\n",
            " 'Boa Vista': '1400100',\n",
            " 'Bonfim': '1400159',\n",
            " 'Cantá': '1400175',\n",
            " 'Caracaraí': '1400209',\n",
            " 'Caroebe': '1400233',\n",
            " 'Iracema': '1400282',\n",
            " 'Mucajaí': '1400308',\n",
            " 'Normandia': '1400407',\n",
            " 'Pacaraima': '1400456',\n",
            " 'Rorainópolis': '1400472',\n",
            " 'São João da Baliza': '1400506',\n",
            " 'São Luiz': '1400605',\n",
            " 'Uiramutã': '1400704'}\n"
          ]
        }
      ],
      "source": [
        "pprint.pprint(cities_codes)"
      ]
    },
    {
      "cell_type": "markdown",
      "metadata": {
        "id": "CRSKdPny0W4T"
      },
      "source": [
        "### Download city"
      ]
    },
    {
      "cell_type": "code",
      "execution_count": null,
      "metadata": {
        "colab": {
          "base_uri": "https://localhost:8080/"
        },
        "id": "ruFkpgh1I4ep",
        "outputId": "81a58bfc-8771-41f9-9974-557fd737cfc6"
      },
      "outputs": [
        {
          "name": "stdout",
          "output_type": "stream",
          "text": [
            "Try 25 - Requesting shape file with captcha: rtaGw\n",
            "Try 25 - Incorret captcha: rtaGw :-(\n",
            "Invalid Captcha: HARe\n",
            "Try 24 - Requesting shape file with captcha: ybnPv\n"
          ]
        },
        {
          "name": "stderr",
          "output_type": "stream",
          "text": [
            "Downloading shapefile city code 3157005: 2.99kKB [00:14, 210KB/s]\n"
          ]
        },
        {
          "data": {
            "text/plain": [
              "PosixPath('drive/MyDrive/SICAR/MG/SHAPE_3157005.zip')"
            ]
          },
          "execution_count": 7,
          "metadata": {
            "tags": []
          },
          "output_type": "execute_result"
        }
      ],
      "source": [
        "# 'Salinas': '3157005'\n",
        "car.download_city_code('3157005', folder='drive/MyDrive/SICAR/MG', debug=True)"
      ]
    },
    {
      "cell_type": "code",
      "execution_count": null,
      "metadata": {
        "colab": {
          "base_uri": "https://localhost:8080/"
        },
        "id": "y_X3LgYs0RHJ",
        "outputId": "b0fe14a9-36bc-449e-c154-351082ff91f3"
      },
      "outputs": [
        {
          "name": "stderr",
          "output_type": "stream",
          "text": [
            "Downloading shapefile city code 3120870: 735KB [00:03, 212KB/s]\n"
          ]
        },
        {
          "data": {
            "text/plain": [
              "PosixPath('drive/MyDrive/SICAR/MG/SHAPE_3120870.zip')"
            ]
          },
          "execution_count": 8,
          "metadata": {
            "tags": []
          },
          "output_type": "execute_result"
        }
      ],
      "source": [
        "# 'Curral de Dentro': '3120870',\n",
        "car.download_city_code('3120870', folder='drive/MyDrive/SICAR/MG', debug=False)"
      ]
    },
    {
      "cell_type": "markdown",
      "metadata": {
        "id": "Le170ede1Gmu"
      },
      "source": [
        "### Download cities"
      ]
    },
    {
      "cell_type": "code",
      "execution_count": null,
      "metadata": {
        "colab": {
          "base_uri": "https://localhost:8080/"
        },
        "id": "GSoc1FBD0RJo",
        "outputId": "18cbe085-4d20-481a-b3fb-a9399d59bd2a"
      },
      "outputs": [
        {
          "name": "stdout",
          "output_type": "stream",
          "text": [
            "Try 25 - Requesting shape file with captcha: MYtTG\n",
            "Try 25 - Incorret captcha: MYtTG :-(\n",
            "Try 24 - Requesting shape file with captcha: uBMOr\n",
            "Try 24 - Incorret captcha: uBMOr :-(\n",
            "Invalid Captcha: Aum\n",
            "Try 23 - Requesting shape file with captcha: odjxF\n"
          ]
        },
        {
          "name": "stderr",
          "output_type": "stream",
          "text": [
            "Downloading shapefile city code 1303809: 1.06kKB [00:15, 68.4KB/s]\n"
          ]
        },
        {
          "name": "stdout",
          "output_type": "stream",
          "text": [
            "Invalid Captcha: XCOXKt\n",
            "Invalid Captcha: dTuo\n",
            "Invalid Captcha: YZgHvV\n",
            "Try 25 - Requesting shape file with captcha: SMZUs\n",
            "Try 25 - Incorret captcha: SMZUs :-(\n",
            "Invalid Captcha: tQzi\n",
            "Try 24 - Requesting shape file with captcha: AwQzi\n",
            "Try 24 - Incorret captcha: AwQzi :-(\n",
            "Invalid Captcha: 73Zk\n",
            "Try 23 - Requesting shape file with captcha: UELSw\n",
            "Try 23 - Incorret captcha: UELSw :-(\n",
            "Try 22 - Requesting shape file with captcha: CLIVE\n",
            "Try 22 - Incorret captcha: CLIVE :-(\n",
            "Invalid Captcha: vj\n",
            "Try 21 - Requesting shape file with captcha: azzdh\n"
          ]
        },
        {
          "name": "stderr",
          "output_type": "stream",
          "text": [
            "Downloading shapefile city code 1303908: 1.47kKB [00:28, 53.6KB/s]\n"
          ]
        },
        {
          "data": {
            "text/plain": [
              "True"
            ]
          },
          "execution_count": 9,
          "metadata": {
            "tags": []
          },
          "output_type": "execute_result"
        }
      ],
      "source": [
        "cities_codes = {\n",
        "    'São Gabriel da Cachoeira': '1303809',\n",
        "    'São Paulo de Olivença': '1303908'\n",
        "}\n",
        "\n",
        "car.download_cities(cities_codes=cities_codes, folder='drive/MyDrive/SICAR/cities', debug=True)"
      ]
    },
    {
      "cell_type": "markdown",
      "metadata": {
        "id": "VgJozoVPR7lq"
      },
      "source": [
        "### Download cities (returning failed cities)"
      ]
    },
    {
      "cell_type": "code",
      "execution_count": null,
      "metadata": {
        "colab": {
          "base_uri": "https://localhost:8080/"
        },
        "id": "zdA-r0dVSB1C",
        "outputId": "25b4058b-549c-48bc-c3f1-9b68c4ef5702"
      },
      "outputs": [
        {
          "name": "stdout",
          "output_type": "stream",
          "text": [
            "Try 3 - Requesting shape file with captcha: CvENo\n",
            "Try 3 - Incorret captcha: CvENo :-(\n",
            "Try 2 - Requesting shape file with captcha: OTtGN\n",
            "Try 2 - Incorret captcha: OTtGN :-(\n",
            "Invalid Captcha: BwHi\n",
            "Try 1 - Requesting shape file with captcha: 32HWF\n",
            "Try 1 - Incorret captcha: 32HWF :-(\n",
            "Invalid Captcha: nP2G\n",
            "Try 3 - Requesting shape file with captcha: wxvbF\n",
            "Try 3 - Incorret captcha: wxvbF :-(\n",
            "Try 2 - Requesting shape file with captcha: fGdjh\n"
          ]
        },
        {
          "name": "stderr",
          "output_type": "stream",
          "text": [
            "Downloading shapefile city code 1303908: 1.47kKB [00:18, 80.4KB/s]\n"
          ]
        }
      ],
      "source": [
        "cities_codes = {\n",
        "    'São Gabriel da Cachoeira': '1303809',\n",
        "    'São Paulo de Olivença': '1303908'\n",
        "}\n",
        "\n",
        "failed_cities = car.download_cities(cities_codes=cities_codes, folder='drive/MyDrive/SICAR/cities', tries=3, debug=True)"
      ]
    },
    {
      "cell_type": "code",
      "execution_count": null,
      "metadata": {
        "colab": {
          "base_uri": "https://localhost:8080/"
        },
        "id": "twTpIsaaa2QV",
        "outputId": "13752854-218b-491b-dc9c-9ce7fe650239"
      },
      "outputs": [
        {
          "name": "stdout",
          "output_type": "stream",
          "text": [
            "{'São Gabriel da Cachoeira': '1303809'}\n"
          ]
        }
      ],
      "source": [
        "pprint.pprint(failed_cities)"
      ]
    },
    {
      "cell_type": "markdown",
      "metadata": {
        "id": "UOPTmr7J1JDy"
      },
      "source": [
        "### Download state"
      ]
    },
    {
      "cell_type": "code",
      "execution_count": null,
      "metadata": {
        "colab": {
          "base_uri": "https://localhost:8080/"
        },
        "id": "TgGAFvbG0RME",
        "outputId": "052085f8-161d-46ba-ac7e-3695d9063b85"
      },
      "outputs": [
        {
          "name": "stderr",
          "output_type": "stream",
          "text": [
            "Downloading shapefile city code 1400050: 7.18kKB [00:59, 123KB/s]\n",
            "Downloading shapefile city code 1400027: 12.6kKB [01:48, 118KB/s]\n",
            "Downloading shapefile city code 1400100: 9.90kKB [00:51, 198KB/s]\n",
            "Downloading shapefile city code 1400159: 8.12kKB [01:05, 127KB/s] \n",
            "Downloading shapefile city code 1400175: 9.20kKB [01:07, 141KB/s] \n",
            "Downloading shapefile city code 1400209: 12.0kKB [00:57, 212KB/s]\n",
            "Downloading shapefile city code 1400233: 7.21kKB [00:34, 213KB/s]\n",
            "Downloading shapefile city code 1400282: 5.61kKB [00:26, 218KB/s]\n",
            "Downloading shapefile city code 1400308: 7.83kKB [00:36, 218KB/s]\n",
            "Downloading shapefile city code 1400407: 91.0KB [00:00, 294KB/s]\n",
            "Downloading shapefile city code 1400456: 70.0KB [00:00, 120KB/s]\n",
            "Downloading shapefile city code 1400472: 20.9kKB [02:17, 156KB/s]\n",
            "Downloading shapefile city code 1400506: 2.24kKB [00:14, 164KB/s]\n",
            "Downloading shapefile city code 1400605: 5.39kKB [00:25, 219KB/s]\n"
          ]
        },
        {
          "data": {
            "text/plain": [
              "{'Uiramutã': '1400704'}"
            ]
          },
          "execution_count": 12,
          "metadata": {
            "tags": []
          },
          "output_type": "execute_result"
        }
      ],
      "source": [
        "car.download_state(state='RR', folder='drive/MyDrive/SICAR/RR', debug=False)"
      ]
    }
  ],
  "metadata": {
    "colab": {
      "name": "Copy of example.ipynb",
      "provenance": []
    },
    "kernelspec": {
      "display_name": "Python 3",
      "name": "python3"
    }
  },
  "nbformat": 4,
  "nbformat_minor": 0
}